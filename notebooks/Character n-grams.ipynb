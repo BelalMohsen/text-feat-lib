{
 "cells": [
  {
   "cell_type": "markdown",
   "metadata": {},
   "source": [
    "Character *n*-grams\n",
    "------\n",
    "**What it does**:\n",
    "\n",
    "**Strengths**:  \n",
    "- Character n-grams are able to capture information on various levels: lexical (|the\\_|, |free|), word-class (|ed\\_|, |ing\\_|), punctuation mark usage (|!!!|, |f.r.|), etc. \n",
    "- they are robust to grammatical errors (e.g., the word-tokens ‘assignment’ and ‘asignment’ share the majority of character n-grams) and strange usage of abbreviations, punctuation marks etc.\n",
    "- The bag of character n-grams representation is language-independent and does not require any text preprocessing (tokenizer, lemmatizer, or other ‘deep’ NLP tools). \n",
    "\n",
    "*source: http://www.icsd.aegean.gr/lecturers/stamatatos/papers/IJAIT-spam.pdf*\n",
    "\n",
    "\n",
    "**Weaknesses**:\n",
    "- Sparse\n",
    "\n",
    "**Hyperparameters**:  \n",
    "- `CountVectorizer`:\n",
    "  - `ngram_range`: the window length of characters to look at. In this notebook, we look at 3- to 5-grams.\n",
    "  - `analyzer`: `char` looks at all n-grams, including spaces. `char_wb` looks only at characters within word boundaries.\n",
    "  - `min_df`, `max_df`: The minimum and maximum document freqency for an n-gram, respectively. Can be a count (`3`) or a percent (`0.95`)\n",
    "  - `lowercase`: Whether to lowercase all characters, default `True`. Potential for better results with case sensitivity."
   ]
  },
  {
   "cell_type": "code",
   "execution_count": 1,
   "metadata": {
    "collapsed": true
   },
   "outputs": [],
   "source": [
    "from collections import OrderedDict\n",
    "import pandas as pd\n",
    "from sklearn.feature_extraction.text import CountVectorizer"
   ]
  },
  {
   "cell_type": "code",
   "execution_count": 2,
   "metadata": {
    "collapsed": false
   },
   "outputs": [],
   "source": [
    "sts_gold = pd.read_csv('../data/sts_gold_v03/sts_gold_tweet.csv', index_col='id', sep=';')"
   ]
  },
  {
   "cell_type": "code",
   "execution_count": 3,
   "metadata": {
    "collapsed": false
   },
   "outputs": [
    {
     "data": {
      "text/html": [
       "<div>\n",
       "<table border=\"1\" class=\"dataframe\">\n",
       "  <thead>\n",
       "    <tr style=\"text-align: right;\">\n",
       "      <th></th>\n",
       "      <th>polarity</th>\n",
       "      <th>tweet</th>\n",
       "    </tr>\n",
       "    <tr>\n",
       "      <th>id</th>\n",
       "      <th></th>\n",
       "      <th></th>\n",
       "    </tr>\n",
       "  </thead>\n",
       "  <tbody>\n",
       "    <tr>\n",
       "      <th>1467933112</th>\n",
       "      <td>0</td>\n",
       "      <td>the angel is going to miss the athlete this we...</td>\n",
       "    </tr>\n",
       "    <tr>\n",
       "      <th>2323395086</th>\n",
       "      <td>0</td>\n",
       "      <td>It looks as though Shaq is getting traded to C...</td>\n",
       "    </tr>\n",
       "    <tr>\n",
       "      <th>1467968979</th>\n",
       "      <td>0</td>\n",
       "      <td>@clarianne APRIL 9TH ISN'T COMING SOON ENOUGH</td>\n",
       "    </tr>\n",
       "    <tr>\n",
       "      <th>1990283756</th>\n",
       "      <td>0</td>\n",
       "      <td>drinking a McDonalds coffee and not understand...</td>\n",
       "    </tr>\n",
       "    <tr>\n",
       "      <th>1988884918</th>\n",
       "      <td>0</td>\n",
       "      <td>So dissapointed Taylor Swift doesnt have a Twi...</td>\n",
       "    </tr>\n",
       "  </tbody>\n",
       "</table>\n",
       "</div>"
      ],
      "text/plain": [
       "            polarity                                              tweet\n",
       "id                                                                     \n",
       "1467933112         0  the angel is going to miss the athlete this we...\n",
       "2323395086         0  It looks as though Shaq is getting traded to C...\n",
       "1467968979         0     @clarianne APRIL 9TH ISN'T COMING SOON ENOUGH \n",
       "1990283756         0  drinking a McDonalds coffee and not understand...\n",
       "1988884918         0  So dissapointed Taylor Swift doesnt have a Twi..."
      ]
     },
     "execution_count": 3,
     "metadata": {},
     "output_type": "execute_result"
    }
   ],
   "source": [
    "sts_gold.head()"
   ]
  },
  {
   "cell_type": "code",
   "execution_count": 4,
   "metadata": {
    "collapsed": true
   },
   "outputs": [],
   "source": [
    "tweets = sts_gold['tweet']"
   ]
  },
  {
   "cell_type": "code",
   "execution_count": 5,
   "metadata": {
    "collapsed": false
   },
   "outputs": [],
   "source": [
    "cv = CountVectorizer(analyzer='char', ngram_range=(3,5), min_df=3, max_df=.95, lowercase=True)\n",
    "boc = cv.fit_transform(tweets)\n",
    "\n",
    "# use below for data frame\n",
    "boc_df = pd.DataFrame(boc.toarray(), index=tweets.index, columns=cv.get_feature_names())"
   ]
  },
  {
   "cell_type": "code",
   "execution_count": 6,
   "metadata": {
    "collapsed": false
   },
   "outputs": [
    {
     "data": {
      "text/html": [
       "<div>\n",
       "<table border=\"1\" class=\"dataframe\">\n",
       "  <thead>\n",
       "    <tr style=\"text-align: right;\">\n",
       "      <th></th>\n",
       "      <th>!</th>\n",
       "      <th>! l</th>\n",
       "      <th>! lo</th>\n",
       "      <th>!!</th>\n",
       "      <th>!!</th>\n",
       "      <th>#b</th>\n",
       "      <th>#c</th>\n",
       "      <th>#e</th>\n",
       "      <th>#f</th>\n",
       "      <th>#l</th>\n",
       "      <th>...</th>\n",
       "      <th>zil..</th>\n",
       "      <th>zili</th>\n",
       "      <th>zilia</th>\n",
       "      <th>zill</th>\n",
       "      <th>zin</th>\n",
       "      <th>zine</th>\n",
       "      <th>zing</th>\n",
       "      <th>zing</th>\n",
       "      <th>zing!</th>\n",
       "      <th>zy</th>\n",
       "    </tr>\n",
       "    <tr>\n",
       "      <th>id</th>\n",
       "      <th></th>\n",
       "      <th></th>\n",
       "      <th></th>\n",
       "      <th></th>\n",
       "      <th></th>\n",
       "      <th></th>\n",
       "      <th></th>\n",
       "      <th></th>\n",
       "      <th></th>\n",
       "      <th></th>\n",
       "      <th></th>\n",
       "      <th></th>\n",
       "      <th></th>\n",
       "      <th></th>\n",
       "      <th></th>\n",
       "      <th></th>\n",
       "      <th></th>\n",
       "      <th></th>\n",
       "      <th></th>\n",
       "      <th></th>\n",
       "      <th></th>\n",
       "    </tr>\n",
       "  </thead>\n",
       "  <tbody>\n",
       "    <tr>\n",
       "      <th>1467933112</th>\n",
       "      <td>0</td>\n",
       "      <td>0</td>\n",
       "      <td>0</td>\n",
       "      <td>0</td>\n",
       "      <td>0</td>\n",
       "      <td>0</td>\n",
       "      <td>0</td>\n",
       "      <td>0</td>\n",
       "      <td>0</td>\n",
       "      <td>0</td>\n",
       "      <td>...</td>\n",
       "      <td>0</td>\n",
       "      <td>0</td>\n",
       "      <td>0</td>\n",
       "      <td>0</td>\n",
       "      <td>0</td>\n",
       "      <td>0</td>\n",
       "      <td>0</td>\n",
       "      <td>0</td>\n",
       "      <td>0</td>\n",
       "      <td>0</td>\n",
       "    </tr>\n",
       "    <tr>\n",
       "      <th>2323395086</th>\n",
       "      <td>0</td>\n",
       "      <td>0</td>\n",
       "      <td>0</td>\n",
       "      <td>0</td>\n",
       "      <td>0</td>\n",
       "      <td>0</td>\n",
       "      <td>0</td>\n",
       "      <td>0</td>\n",
       "      <td>0</td>\n",
       "      <td>0</td>\n",
       "      <td>...</td>\n",
       "      <td>0</td>\n",
       "      <td>0</td>\n",
       "      <td>0</td>\n",
       "      <td>0</td>\n",
       "      <td>0</td>\n",
       "      <td>0</td>\n",
       "      <td>0</td>\n",
       "      <td>0</td>\n",
       "      <td>0</td>\n",
       "      <td>0</td>\n",
       "    </tr>\n",
       "    <tr>\n",
       "      <th>1467968979</th>\n",
       "      <td>0</td>\n",
       "      <td>0</td>\n",
       "      <td>0</td>\n",
       "      <td>0</td>\n",
       "      <td>0</td>\n",
       "      <td>0</td>\n",
       "      <td>0</td>\n",
       "      <td>0</td>\n",
       "      <td>0</td>\n",
       "      <td>0</td>\n",
       "      <td>...</td>\n",
       "      <td>0</td>\n",
       "      <td>0</td>\n",
       "      <td>0</td>\n",
       "      <td>0</td>\n",
       "      <td>0</td>\n",
       "      <td>0</td>\n",
       "      <td>0</td>\n",
       "      <td>0</td>\n",
       "      <td>0</td>\n",
       "      <td>0</td>\n",
       "    </tr>\n",
       "    <tr>\n",
       "      <th>1990283756</th>\n",
       "      <td>0</td>\n",
       "      <td>0</td>\n",
       "      <td>0</td>\n",
       "      <td>0</td>\n",
       "      <td>0</td>\n",
       "      <td>0</td>\n",
       "      <td>0</td>\n",
       "      <td>0</td>\n",
       "      <td>0</td>\n",
       "      <td>0</td>\n",
       "      <td>...</td>\n",
       "      <td>0</td>\n",
       "      <td>0</td>\n",
       "      <td>0</td>\n",
       "      <td>0</td>\n",
       "      <td>0</td>\n",
       "      <td>0</td>\n",
       "      <td>0</td>\n",
       "      <td>0</td>\n",
       "      <td>0</td>\n",
       "      <td>0</td>\n",
       "    </tr>\n",
       "    <tr>\n",
       "      <th>1988884918</th>\n",
       "      <td>0</td>\n",
       "      <td>0</td>\n",
       "      <td>0</td>\n",
       "      <td>0</td>\n",
       "      <td>0</td>\n",
       "      <td>0</td>\n",
       "      <td>0</td>\n",
       "      <td>0</td>\n",
       "      <td>0</td>\n",
       "      <td>0</td>\n",
       "      <td>...</td>\n",
       "      <td>0</td>\n",
       "      <td>0</td>\n",
       "      <td>0</td>\n",
       "      <td>0</td>\n",
       "      <td>0</td>\n",
       "      <td>0</td>\n",
       "      <td>0</td>\n",
       "      <td>0</td>\n",
       "      <td>0</td>\n",
       "      <td>0</td>\n",
       "    </tr>\n",
       "  </tbody>\n",
       "</table>\n",
       "<p>5 rows × 24757 columns</p>\n",
       "</div>"
      ],
      "text/plain": [
       "             !    ! l   ! lo   !!   !!    #b   #c   #e   #f   #l ...   zil..  \\\n",
       "id                                                               ...           \n",
       "1467933112    0     0      0    0     0    0    0    0    0    0 ...       0   \n",
       "2323395086    0     0      0    0     0    0    0    0    0    0 ...       0   \n",
       "1467968979    0     0      0    0     0    0    0    0    0    0 ...       0   \n",
       "1990283756    0     0      0    0     0    0    0    0    0    0 ...       0   \n",
       "1988884918    0     0      0    0     0    0    0    0    0    0 ...       0   \n",
       "\n",
       "            zili  zilia  zill  zin  zine  zing  zing   zing!  zy   \n",
       "id                                                                 \n",
       "1467933112     0      0     0    0     0     0      0      0    0  \n",
       "2323395086     0      0     0    0     0     0      0      0    0  \n",
       "1467968979     0      0     0    0     0     0      0      0    0  \n",
       "1990283756     0      0     0    0     0     0      0      0    0  \n",
       "1988884918     0      0     0    0     0     0      0      0    0  \n",
       "\n",
       "[5 rows x 24757 columns]"
      ]
     },
     "execution_count": 6,
     "metadata": {},
     "output_type": "execute_result"
    }
   ],
   "source": [
    "boc_df.head()"
   ]
  },
  {
   "cell_type": "markdown",
   "metadata": {},
   "source": [
    "### Feature Evaluation"
   ]
  },
  {
   "cell_type": "code",
   "execution_count": 7,
   "metadata": {
    "collapsed": true
   },
   "outputs": [],
   "source": [
    "from sklearn.dummy import DummyClassifier\n",
    "from sklearn.naive_bayes import BernoulliNB, MultinomialNB\n",
    "from sklearn.svm import SVC\n",
    "from sklearn.ensemble import RandomForestClassifier\n",
    "from sklearn.linear_model import LogisticRegressionCV\n",
    "from sklearn.preprocessing import Binarizer, StandardScaler\n",
    "from sklearn.ensemble import VotingClassifier\n",
    "\n",
    "from sklearn.cross_validation import cross_val_score"
   ]
  },
  {
   "cell_type": "code",
   "execution_count": 8,
   "metadata": {
    "collapsed": false
   },
   "outputs": [],
   "source": [
    "models = [('DUMMY', DummyClassifier(strategy='most_frequent')),\n",
    "          ('mNB' , MultinomialNB()),\n",
    "          ('bNB' , BernoulliNB()),\n",
    "          ('svc' , SVC(probability=False)),\n",
    "          ('rf' , RandomForestClassifier()),\n",
    "          ('lr' , LogisticRegressionCV())\n",
    "         ]\n",
    "models.append(('eclf', VotingClassifier(estimators=[models[i] for i in [1, 3, 4, 5]], voting='hard')))"
   ]
  },
  {
   "cell_type": "code",
   "execution_count": 9,
   "metadata": {
    "collapsed": false
   },
   "outputs": [
    {
     "name": "stdout",
     "output_type": "stream",
     "text": [
      "MODEL\tMEAN CV\tMIN CV\tMAX CV\n",
      "DUMMY\t0.6893\t0.6887\t0.6897\n",
      "mNB\t0.852\t0.835\t0.8725\n",
      "bNB\t0.85\t0.8325\t0.875"
     ]
    },
    {
     "name": "stderr",
     "output_type": "stream",
     "text": [
      "/Users/pbaumgartner/anaconda/lib/python3.5/site-packages/sklearn/utils/validation.py:420: DataConversionWarning: Data with input dtype int64 was converted to float64 by StandardScaler.\n",
      "  warnings.warn(msg, DataConversionWarning)\n",
      "/Users/pbaumgartner/anaconda/lib/python3.5/site-packages/sklearn/utils/validation.py:420: DataConversionWarning: Data with input dtype int64 was converted to float64 by StandardScaler.\n",
      "  warnings.warn(msg, DataConversionWarning)\n"
     ]
    },
    {
     "name": "stdout",
     "output_type": "stream",
     "text": [
      "\n",
      "svc\t0.706\t0.6961\t0.7143\n",
      "rf\t0.7955\t0.7635\t0.8251\n",
      "lr\t0.8525\t0.8407\t0.867\n",
      "eclf\t0.8107\t0.8039\t0.8227\n"
     ]
    }
   ],
   "source": [
    "print('{0}\\t{1:<1}\\t{2:<4}\\t{3:<4}'.format(\"MODEL\", \"MEAN CV\", \"MIN CV\", \"MAX CV\"))\n",
    "\n",
    "for name, model in models:    \n",
    "    X, Y = boc, (sts_gold['polarity'] == 4).ravel()\n",
    "    \n",
    "    if name == 'bNB':\n",
    "        binarize = Binarizer()\n",
    "        X = binarize.fit_transform(X)\n",
    "    elif name == 'svc':\n",
    "        ss = StandardScaler()\n",
    "        X = X.toarray()\n",
    "        X = ss.fit_transform(X)\n",
    "        \n",
    "    cv = cross_val_score(model, X, Y, cv=5, scoring='accuracy')\n",
    "    \n",
    "    print('{0}\\t{1:<3}\\t{2:<4}\\t{3:<4}'.format(name, round(cv.mean(), 4), round(cv.min(), 4), round(cv.max(), 4)))"
   ]
  },
  {
   "cell_type": "code",
   "execution_count": null,
   "metadata": {
    "collapsed": true
   },
   "outputs": [],
   "source": []
  }
 ],
 "metadata": {
  "kernelspec": {
   "display_name": "Python 3",
   "language": "python",
   "name": "python3"
  },
  "language_info": {
   "codemirror_mode": {
    "name": "ipython",
    "version": 3
   },
   "file_extension": ".py",
   "mimetype": "text/x-python",
   "name": "python",
   "nbconvert_exporter": "python",
   "pygments_lexer": "ipython3",
   "version": "3.5.1"
  }
 },
 "nbformat": 4,
 "nbformat_minor": 0
}
