{
 "cells": [
  {
   "cell_type": "markdown",
   "metadata": {},
   "source": [
    "NRC Hashtag Sentiments (bigrams)\n",
    "------\n",
    "**What it does**: Generates a set of features from the **Bigram** Lexicon of the NRC Hashtag Sentiment Lexicon. Features generated follow the ones generated in [Mohammad et. al 2013](http://www.aclweb.org/website/old_anthology/S/S13/S13-2.pdf#page=357), which are (for each word `w` and polarity/sentiment `p`):\n",
    "- Total count of bigrams in tweet with `score(w, p) > 0`\n",
    "- Sum of score within tweet for each `p`\n",
    "- Maximum bigram score for each `p`\n",
    "- Score of last bigram in each tweet\n",
    "\n",
    "Source:  http://saifmohammad.com/WebPages/lexicons.html#EmoLex5\n",
    "\n",
    "**Strengths**:  Generates features with a sense of scale rather than counts. \n",
    "\n",
    "**Weaknesses**: Some features return negative values which can't be used in `BernoulliNB`. Not count values so `MultinomialNB` doesn't make *intuitive* sense, but will still function.\n",
    "\n",
    "**Hyperparameters**:  None"
   ]
  },
  {
   "cell_type": "code",
   "execution_count": 4,
   "metadata": {
    "collapsed": false
   },
   "outputs": [],
   "source": [
    "from collections import OrderedDict, defaultdict, Counter\n",
    "import re\n",
    "import pandas as pd\n",
    "from nltk.tokenize import TweetTokenizer\n",
    "from nltk.util import ngrams"
   ]
  },
  {
   "cell_type": "code",
   "execution_count": 5,
   "metadata": {
    "collapsed": false
   },
   "outputs": [],
   "source": [
    "sts_gold = pd.read_csv('../data/sts_gold_v03/sts_gold_tweet.csv', index_col='id', sep=';')"
   ]
  },
  {
   "cell_type": "code",
   "execution_count": 6,
   "metadata": {
    "collapsed": false
   },
   "outputs": [
    {
     "data": {
      "text/html": [
       "<div>\n",
       "<table border=\"1\" class=\"dataframe\">\n",
       "  <thead>\n",
       "    <tr style=\"text-align: right;\">\n",
       "      <th></th>\n",
       "      <th>polarity</th>\n",
       "      <th>tweet</th>\n",
       "    </tr>\n",
       "    <tr>\n",
       "      <th>id</th>\n",
       "      <th></th>\n",
       "      <th></th>\n",
       "    </tr>\n",
       "  </thead>\n",
       "  <tbody>\n",
       "    <tr>\n",
       "      <th>1467933112</th>\n",
       "      <td>0</td>\n",
       "      <td>the angel is going to miss the athlete this we...</td>\n",
       "    </tr>\n",
       "    <tr>\n",
       "      <th>2323395086</th>\n",
       "      <td>0</td>\n",
       "      <td>It looks as though Shaq is getting traded to C...</td>\n",
       "    </tr>\n",
       "    <tr>\n",
       "      <th>1467968979</th>\n",
       "      <td>0</td>\n",
       "      <td>@clarianne APRIL 9TH ISN'T COMING SOON ENOUGH</td>\n",
       "    </tr>\n",
       "    <tr>\n",
       "      <th>1990283756</th>\n",
       "      <td>0</td>\n",
       "      <td>drinking a McDonalds coffee and not understand...</td>\n",
       "    </tr>\n",
       "    <tr>\n",
       "      <th>1988884918</th>\n",
       "      <td>0</td>\n",
       "      <td>So dissapointed Taylor Swift doesnt have a Twi...</td>\n",
       "    </tr>\n",
       "  </tbody>\n",
       "</table>\n",
       "</div>"
      ],
      "text/plain": [
       "            polarity                                              tweet\n",
       "id                                                                     \n",
       "1467933112         0  the angel is going to miss the athlete this we...\n",
       "2323395086         0  It looks as though Shaq is getting traded to C...\n",
       "1467968979         0     @clarianne APRIL 9TH ISN'T COMING SOON ENOUGH \n",
       "1990283756         0  drinking a McDonalds coffee and not understand...\n",
       "1988884918         0  So dissapointed Taylor Swift doesnt have a Twi..."
      ]
     },
     "execution_count": 6,
     "metadata": {},
     "output_type": "execute_result"
    }
   ],
   "source": [
    "sts_gold.head()"
   ]
  },
  {
   "cell_type": "code",
   "execution_count": 7,
   "metadata": {
    "collapsed": true
   },
   "outputs": [],
   "source": [
    "tweets = sts_gold['tweet']"
   ]
  },
  {
   "cell_type": "code",
   "execution_count": 8,
   "metadata": {
    "collapsed": false
   },
   "outputs": [],
   "source": [
    "wordDict = defaultdict(float)\n",
    "\n",
    "with open('../lexicons/NRC-Hashtag-Sentiment-Lexicon-v0.1/bigrams-pmilexicon.txt', 'r') as f:\n",
    "    for row in f.readlines():\n",
    "        row = row.split()\n",
    "        wordDict[row[0] +\" \" + row[1]] = float(row[2])"
   ]
  },
  {
   "cell_type": "code",
   "execution_count": 9,
   "metadata": {
    "collapsed": true
   },
   "outputs": [],
   "source": [
    "tt = TweetTokenizer()"
   ]
  },
  {
   "cell_type": "code",
   "execution_count": 10,
   "metadata": {
    "collapsed": true
   },
   "outputs": [],
   "source": [
    "def polarity(x):\n",
    "    score = wordDict[x]\n",
    "    if score > 0:\n",
    "        return 'positive'\n",
    "    if score < 0:\n",
    "        return 'negative'\n",
    "    else:\n",
    "        return 'none'"
   ]
  },
  {
   "cell_type": "code",
   "execution_count": 11,
   "metadata": {
    "collapsed": true
   },
   "outputs": [],
   "source": [
    "def count_tokens_with_polarity(string, tokenizer):\n",
    "    \n",
    "    scorelist = []\n",
    "    tokenized = tokenizer.tokenize(string)\n",
    "    ngrams_list = [' '.join(i) for i in ngrams(tokenized, 2)]\n",
    "    for ngram in ngrams_list:\n",
    "        ngram = ngram.lower()\n",
    "        score = polarity(ngram)\n",
    "        scorelist.append(score)\n",
    "        \n",
    "    return dict(Counter(scorelist))"
   ]
  },
  {
   "cell_type": "code",
   "execution_count": 12,
   "metadata": {
    "collapsed": true
   },
   "outputs": [],
   "source": [
    "def polarity_sum(string, tokenizer):\n",
    "    \n",
    "    negList = []\n",
    "    posList = []\n",
    "    tokenized = tokenizer.tokenize(string)\n",
    "    ngrams_list = [' '.join(i) for i in ngrams(tokenized, 2)]\n",
    "    for ngram in ngrams_list:\n",
    "        ngram = ngram.lower()\n",
    "        if polarity(ngram) == 'positive':\n",
    "            posList.append(wordDict[ngram])\n",
    "        elif polarity(ngram) == 'negative':\n",
    "            negList.append(abs(wordDict[ngram]))\n",
    "        \n",
    "    return {'pos_sum' : sum(posList), 'neg_sum' : sum(negList)}"
   ]
  },
  {
   "cell_type": "code",
   "execution_count": 13,
   "metadata": {
    "collapsed": true
   },
   "outputs": [],
   "source": [
    "def max_token(string, tokenizer):\n",
    "    \n",
    "    negList = []\n",
    "    posList = []\n",
    "    \n",
    "    tokenized = tokenizer.tokenize(string)\n",
    "    ngrams_list = [' '.join(i) for i in ngrams(tokenized, 2)]\n",
    "    for ngram in ngrams_list:\n",
    "        ngram = ngram.lower()\n",
    "        if polarity(ngram) == 'positive':\n",
    "            posList.append(wordDict[ngram])\n",
    "        elif polarity(ngram) == 'negative':\n",
    "            negList.append(wordDict[ngram])\n",
    "        \n",
    "        \n",
    "    try:\n",
    "        pos_max = max(posList)\n",
    "    except ValueError:\n",
    "        pos_max = 0\n",
    "    try:\n",
    "        neg_max = min(negList)\n",
    "    except ValueError:\n",
    "        neg_max = 0\n",
    "        \n",
    "    return {'pos_max' : pos_max, 'neg_max' : neg_max}"
   ]
  },
  {
   "cell_type": "code",
   "execution_count": 14,
   "metadata": {
    "collapsed": true
   },
   "outputs": [],
   "source": [
    "def last_token(string, tokenizer):\n",
    "    \n",
    "    negList = []\n",
    "    posList = []\n",
    "    tokenized = tokenizer.tokenize(string)\n",
    "    ngrams_list = [' '.join(i) for i in ngrams(tokenized, 2)]\n",
    "    \n",
    "    for token in reversed(ngrams_list):\n",
    "        token = token.lower()\n",
    "        if polarity(token) == 'positive' or polarity(token) == 'negative':\n",
    "            return {'last_polarity' : wordDict[token]}\n",
    "        else:\n",
    "            continue\n",
    "    \n",
    "    return {'last_polarity' : 0}"
   ]
  },
  {
   "cell_type": "code",
   "execution_count": 15,
   "metadata": {
    "collapsed": true
   },
   "outputs": [],
   "source": [
    "def all_feats_dict(string, tokenizer):\n",
    "    ct = count_tokens_with_polarity(string, tokenizer)\n",
    "    pol = polarity_sum(string, tokenizer)\n",
    "    max_tkn = max_token(string, tokenizer)\n",
    "    last = last_token(string, tokenizer)\n",
    "    \n",
    "    complete = dict()\n",
    "    \n",
    "    for dictionary in [ct, pol, max_tkn, last]:\n",
    "        complete.update(dictionary)\n",
    "        \n",
    "    return complete"
   ]
  },
  {
   "cell_type": "code",
   "execution_count": 16,
   "metadata": {
    "collapsed": false
   },
   "outputs": [],
   "source": [
    "emotionCounts = [all_feats_dict(tweet, tt) for tweet in tweets]"
   ]
  },
  {
   "cell_type": "code",
   "execution_count": 17,
   "metadata": {
    "collapsed": false
   },
   "outputs": [],
   "source": [
    "emotion_df = pd.DataFrame(emotionCounts, index=tweets.index)\n",
    "emotion_df = emotion_df.fillna(0)"
   ]
  },
  {
   "cell_type": "code",
   "execution_count": 18,
   "metadata": {
    "collapsed": false
   },
   "outputs": [],
   "source": [
    "# Add percentages if desired per sentence\n",
    "\n",
    "#for column in emotion_df.columns:\n",
    "#    emotion_df[column + \"_p\"] = emotion_df[column] / emotion_df.sum(axis=1)"
   ]
  },
  {
   "cell_type": "code",
   "execution_count": 19,
   "metadata": {
    "collapsed": false
   },
   "outputs": [
    {
     "data": {
      "text/html": [
       "<div>\n",
       "<table border=\"1\" class=\"dataframe\">\n",
       "  <thead>\n",
       "    <tr style=\"text-align: right;\">\n",
       "      <th></th>\n",
       "      <th>last_polarity</th>\n",
       "      <th>neg_max</th>\n",
       "      <th>neg_sum</th>\n",
       "      <th>negative</th>\n",
       "      <th>none</th>\n",
       "      <th>pos_max</th>\n",
       "      <th>pos_sum</th>\n",
       "      <th>positive</th>\n",
       "    </tr>\n",
       "  </thead>\n",
       "  <tbody>\n",
       "    <tr>\n",
       "      <th>count</th>\n",
       "      <td>2034.000000</td>\n",
       "      <td>2034.000000</td>\n",
       "      <td>2034.000000</td>\n",
       "      <td>2034.000000</td>\n",
       "      <td>2034.000000</td>\n",
       "      <td>2034.000000</td>\n",
       "      <td>2034.000000</td>\n",
       "      <td>2034.000000</td>\n",
       "    </tr>\n",
       "    <tr>\n",
       "      <th>mean</th>\n",
       "      <td>-0.001384</td>\n",
       "      <td>-1.293763</td>\n",
       "      <td>3.172424</td>\n",
       "      <td>4.951819</td>\n",
       "      <td>5.342183</td>\n",
       "      <td>1.137810</td>\n",
       "      <td>3.215226</td>\n",
       "      <td>5.421829</td>\n",
       "    </tr>\n",
       "    <tr>\n",
       "      <th>std</th>\n",
       "      <td>0.959042</td>\n",
       "      <td>1.269207</td>\n",
       "      <td>3.162562</td>\n",
       "      <td>3.779152</td>\n",
       "      <td>3.545075</td>\n",
       "      <td>0.865197</td>\n",
       "      <td>3.058730</td>\n",
       "      <td>3.877240</td>\n",
       "    </tr>\n",
       "    <tr>\n",
       "      <th>min</th>\n",
       "      <td>-4.999000</td>\n",
       "      <td>-4.999000</td>\n",
       "      <td>0.000000</td>\n",
       "      <td>0.000000</td>\n",
       "      <td>0.000000</td>\n",
       "      <td>0.000000</td>\n",
       "      <td>0.000000</td>\n",
       "      <td>0.000000</td>\n",
       "    </tr>\n",
       "    <tr>\n",
       "      <th>25%</th>\n",
       "      <td>-0.437000</td>\n",
       "      <td>-1.600000</td>\n",
       "      <td>0.776500</td>\n",
       "      <td>2.000000</td>\n",
       "      <td>3.000000</td>\n",
       "      <td>0.571000</td>\n",
       "      <td>1.062750</td>\n",
       "      <td>3.000000</td>\n",
       "    </tr>\n",
       "    <tr>\n",
       "      <th>50%</th>\n",
       "      <td>0.072000</td>\n",
       "      <td>-0.987000</td>\n",
       "      <td>2.297500</td>\n",
       "      <td>4.000000</td>\n",
       "      <td>5.000000</td>\n",
       "      <td>0.989000</td>\n",
       "      <td>2.431000</td>\n",
       "      <td>5.000000</td>\n",
       "    </tr>\n",
       "    <tr>\n",
       "      <th>75%</th>\n",
       "      <td>0.478000</td>\n",
       "      <td>-0.495250</td>\n",
       "      <td>4.542750</td>\n",
       "      <td>7.000000</td>\n",
       "      <td>7.000000</td>\n",
       "      <td>1.552000</td>\n",
       "      <td>4.398000</td>\n",
       "      <td>8.000000</td>\n",
       "    </tr>\n",
       "    <tr>\n",
       "      <th>max</th>\n",
       "      <td>5.000000</td>\n",
       "      <td>0.000000</td>\n",
       "      <td>20.344000</td>\n",
       "      <td>21.000000</td>\n",
       "      <td>20.000000</td>\n",
       "      <td>5.000000</td>\n",
       "      <td>29.201000</td>\n",
       "      <td>27.000000</td>\n",
       "    </tr>\n",
       "  </tbody>\n",
       "</table>\n",
       "</div>"
      ],
      "text/plain": [
       "       last_polarity      neg_max      neg_sum     negative         none  \\\n",
       "count    2034.000000  2034.000000  2034.000000  2034.000000  2034.000000   \n",
       "mean       -0.001384    -1.293763     3.172424     4.951819     5.342183   \n",
       "std         0.959042     1.269207     3.162562     3.779152     3.545075   \n",
       "min        -4.999000    -4.999000     0.000000     0.000000     0.000000   \n",
       "25%        -0.437000    -1.600000     0.776500     2.000000     3.000000   \n",
       "50%         0.072000    -0.987000     2.297500     4.000000     5.000000   \n",
       "75%         0.478000    -0.495250     4.542750     7.000000     7.000000   \n",
       "max         5.000000     0.000000    20.344000    21.000000    20.000000   \n",
       "\n",
       "           pos_max      pos_sum     positive  \n",
       "count  2034.000000  2034.000000  2034.000000  \n",
       "mean      1.137810     3.215226     5.421829  \n",
       "std       0.865197     3.058730     3.877240  \n",
       "min       0.000000     0.000000     0.000000  \n",
       "25%       0.571000     1.062750     3.000000  \n",
       "50%       0.989000     2.431000     5.000000  \n",
       "75%       1.552000     4.398000     8.000000  \n",
       "max       5.000000    29.201000    27.000000  "
      ]
     },
     "execution_count": 19,
     "metadata": {},
     "output_type": "execute_result"
    }
   ],
   "source": [
    "emotion_df.describe()"
   ]
  },
  {
   "cell_type": "code",
   "execution_count": 20,
   "metadata": {
    "collapsed": true
   },
   "outputs": [],
   "source": [
    "from sklearn.dummy import DummyClassifier\n",
    "from sklearn.naive_bayes import BernoulliNB, MultinomialNB\n",
    "from sklearn.svm import SVC\n",
    "from sklearn.ensemble import RandomForestClassifier\n",
    "from sklearn.linear_model import LogisticRegressionCV\n",
    "from sklearn.preprocessing import Binarizer, StandardScaler\n",
    "from sklearn.ensemble import VotingClassifier\n",
    "\n",
    "from sklearn.cross_validation import cross_val_score"
   ]
  },
  {
   "cell_type": "code",
   "execution_count": 21,
   "metadata": {
    "collapsed": false
   },
   "outputs": [],
   "source": [
    "models = [('DUMMY', DummyClassifier(strategy='most_frequent')),\n",
    "          ('mNB' , MultinomialNB()),\n",
    "          ('bNB' , BernoulliNB()),\n",
    "          ('svc' , SVC(probability=True)),\n",
    "          ('rf' , RandomForestClassifier()),\n",
    "          ('lr' , LogisticRegressionCV())\n",
    "         ]\n",
    "models.append(('eclf', VotingClassifier(estimators=[models[i] for i in [1, 3, 4, 5]], voting='soft')))"
   ]
  },
  {
   "cell_type": "code",
   "execution_count": 22,
   "metadata": {
    "collapsed": false
   },
   "outputs": [
    {
     "name": "stdout",
     "output_type": "stream",
     "text": [
      "MODEL\tMEAN CV\tMIN CV\tMAX CV\n",
      "DUMMY\t0.6893\t0.6887\t0.6897\n",
      "mNB\t0.7134\t0.6912\t0.7463\n",
      "bNB\t0.6942\t0.674\t0.7108\n",
      "svc\t0.733\t0.6995\t0.7537\n",
      "rf\t0.7286\t0.7181\t0.7414\n",
      "lr\t0.7414\t0.7132\t0.7635\n",
      "eclf\t0.7532\t0.7279\t0.7783\n"
     ]
    }
   ],
   "source": [
    "print('{0}\\t{1:<1}\\t{2:<4}\\t{3:<4}'.format(\"MODEL\", \"MEAN CV\", \"MIN CV\", \"MAX CV\"))\n",
    "\n",
    "for name, model in models:    \n",
    "    X, Y = emotion_df, (sts_gold['polarity'] == 4).ravel()\n",
    "    \n",
    "    if name == 'bNB' or 'mNB':\n",
    "        X = abs(X)\n",
    "        if name == 'bNB':\n",
    "            binarize = Binarizer()\n",
    "            X = binarize.fit_transform(X)\n",
    "    elif name == 'svc':\n",
    "        ss = StandardScaler()\n",
    "        X = X.as_matrix()\n",
    "        X = ss.fit_transform(X)\n",
    "        \n",
    "    cv = cross_val_score(model, X, Y, cv=5, scoring='accuracy')\n",
    "    \n",
    "    print('{0}\\t{1:<3}\\t{2:<4}\\t{3:<4}'.format(name, round(cv.mean(), 4), round(cv.min(), 4), round(cv.max(), 4)))"
   ]
  },
  {
   "cell_type": "code",
   "execution_count": null,
   "metadata": {
    "collapsed": true
   },
   "outputs": [],
   "source": []
  }
 ],
 "metadata": {
  "kernelspec": {
   "display_name": "Python 3",
   "language": "python",
   "name": "python3"
  },
  "language_info": {
   "codemirror_mode": {
    "name": "ipython",
    "version": 3
   },
   "file_extension": ".py",
   "mimetype": "text/x-python",
   "name": "python",
   "nbconvert_exporter": "python",
   "pygments_lexer": "ipython3",
   "version": "3.5.1"
  }
 },
 "nbformat": 4,
 "nbformat_minor": 0
}
