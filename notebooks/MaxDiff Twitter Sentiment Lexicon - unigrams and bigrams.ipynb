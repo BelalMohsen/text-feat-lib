{
 "cells": [
  {
   "cell_type": "markdown",
   "metadata": {},
   "source": [
    "MaxDiff Twitter Sentiment Lexicon - unigrams and bigrams\n",
    "------\n",
    "**What it does**: Generates a set of features from the MaxDiff Twitter Sentiment Lexicon. Features generated follow the ones generated in [Mohammad et. al 2013](http://www.aclweb.org/website/old_anthology/S/S13/S13-2.pdf#page=357), which are (for each word `w` and polarity/sentiment `p`):\n",
    "- Total count of tokens in tweet with `score(w, p) > 0`\n",
    "- Sum of score within tweet for each `p`\n",
    "- Maximum token score for each `p`\n",
    "- Score of last token in each tweet\n",
    "\n",
    "Source:  http://saifmohammad.com/WebPages/lexicons.html#EmoLex4\n",
    "\n",
    "**Strengths**:  Generates features with a sense of scale rather than counts. \n",
    "\n",
    "**Weaknesses**: Some features return negative values which can't be used in `BernoulliNB`. Not count values so `MultinomialNB` doesn't make *intuitive* sense, but will still function.\n",
    "\n",
    "**Hyperparameters**:  None"
   ]
  },
  {
   "cell_type": "code",
   "execution_count": 76,
   "metadata": {
    "collapsed": false
   },
   "outputs": [],
   "source": [
    "from collections import OrderedDict, defaultdict, Counter\n",
    "import re\n",
    "import pandas as pd\n",
    "from nltk.tokenize import TweetTokenizer\n",
    "from nltk.util import ngrams\n",
    "from itertools import zip_longest"
   ]
  },
  {
   "cell_type": "code",
   "execution_count": 2,
   "metadata": {
    "collapsed": false
   },
   "outputs": [],
   "source": [
    "sts_gold = pd.read_csv('../data/sts_gold_v03/sts_gold_tweet.csv', index_col='id', sep=';')"
   ]
  },
  {
   "cell_type": "code",
   "execution_count": 3,
   "metadata": {
    "collapsed": false
   },
   "outputs": [
    {
     "data": {
      "text/html": [
       "<div>\n",
       "<table border=\"1\" class=\"dataframe\">\n",
       "  <thead>\n",
       "    <tr style=\"text-align: right;\">\n",
       "      <th></th>\n",
       "      <th>polarity</th>\n",
       "      <th>tweet</th>\n",
       "    </tr>\n",
       "    <tr>\n",
       "      <th>id</th>\n",
       "      <th></th>\n",
       "      <th></th>\n",
       "    </tr>\n",
       "  </thead>\n",
       "  <tbody>\n",
       "    <tr>\n",
       "      <th>1467933112</th>\n",
       "      <td>0</td>\n",
       "      <td>the angel is going to miss the athlete this we...</td>\n",
       "    </tr>\n",
       "    <tr>\n",
       "      <th>2323395086</th>\n",
       "      <td>0</td>\n",
       "      <td>It looks as though Shaq is getting traded to C...</td>\n",
       "    </tr>\n",
       "    <tr>\n",
       "      <th>1467968979</th>\n",
       "      <td>0</td>\n",
       "      <td>@clarianne APRIL 9TH ISN'T COMING SOON ENOUGH</td>\n",
       "    </tr>\n",
       "    <tr>\n",
       "      <th>1990283756</th>\n",
       "      <td>0</td>\n",
       "      <td>drinking a McDonalds coffee and not understand...</td>\n",
       "    </tr>\n",
       "    <tr>\n",
       "      <th>1988884918</th>\n",
       "      <td>0</td>\n",
       "      <td>So dissapointed Taylor Swift doesnt have a Twi...</td>\n",
       "    </tr>\n",
       "  </tbody>\n",
       "</table>\n",
       "</div>"
      ],
      "text/plain": [
       "            polarity                                              tweet\n",
       "id                                                                     \n",
       "1467933112         0  the angel is going to miss the athlete this we...\n",
       "2323395086         0  It looks as though Shaq is getting traded to C...\n",
       "1467968979         0     @clarianne APRIL 9TH ISN'T COMING SOON ENOUGH \n",
       "1990283756         0  drinking a McDonalds coffee and not understand...\n",
       "1988884918         0  So dissapointed Taylor Swift doesnt have a Twi..."
      ]
     },
     "execution_count": 3,
     "metadata": {},
     "output_type": "execute_result"
    }
   ],
   "source": [
    "sts_gold.head()"
   ]
  },
  {
   "cell_type": "code",
   "execution_count": 29,
   "metadata": {
    "collapsed": false
   },
   "outputs": [
    {
     "data": {
      "text/plain": [
       "[\"don't\", 'do', 'that']"
      ]
     },
     "execution_count": 29,
     "metadata": {},
     "output_type": "execute_result"
    }
   ],
   "source": [
    "tt.tokenize(\"don't do that\")"
   ]
  },
  {
   "cell_type": "code",
   "execution_count": 4,
   "metadata": {
    "collapsed": true
   },
   "outputs": [],
   "source": [
    "tweets = sts_gold['tweet']"
   ]
  },
  {
   "cell_type": "code",
   "execution_count": 43,
   "metadata": {
    "collapsed": false
   },
   "outputs": [],
   "source": [
    "wordDict = defaultdict(float)\n",
    "\n",
    "with open('../lexicons/MaxDiff-Twitter-Lexicon/Maxdiff-Twitter-Lexicon_-1to1.txt', 'r') as f:\n",
    "    for row in f.readlines():\n",
    "        row = row.split()\n",
    "        wordDict[' '.join(row[1:])] = float(row[0])"
   ]
  },
  {
   "cell_type": "code",
   "execution_count": 44,
   "metadata": {
    "collapsed": true
   },
   "outputs": [],
   "source": [
    "tt = TweetTokenizer()"
   ]
  },
  {
   "cell_type": "code",
   "execution_count": 145,
   "metadata": {
    "collapsed": true
   },
   "outputs": [],
   "source": [
    "def polarity(x):\n",
    "    score = wordDict[x]\n",
    "    if score > 0:\n",
    "        return 'positive'\n",
    "    if score < 0:\n",
    "        return 'negative'\n",
    "    else:\n",
    "        return 'none'"
   ]
  },
  {
   "cell_type": "code",
   "execution_count": 146,
   "metadata": {
    "collapsed": true
   },
   "outputs": [],
   "source": [
    "def count_tokens_with_polarity(string, tokenizer):\n",
    "    \n",
    "    scorelist = []\n",
    "    tokenized = tt.tokenize(string)\n",
    "    ngrams_list = [' '.join(i) for i in ngrams(tokenized, 2)]\n",
    "    all_grams = tokenized + ngrams_list\n",
    "    for token in all_grams:\n",
    "        token = token.lower()\n",
    "        score = polarity(token)\n",
    "        scorelist.append(score)\n",
    "        \n",
    "    return dict(Counter(scorelist))"
   ]
  },
  {
   "cell_type": "code",
   "execution_count": 147,
   "metadata": {
    "collapsed": true
   },
   "outputs": [],
   "source": [
    "def polarity_sum(string, tokenizer):\n",
    "    \n",
    "    negList = []\n",
    "    posList = []\n",
    "    tokenized = tt.tokenize(string)\n",
    "    ngrams_list = [' '.join(i) for i in ngrams(tokenized, 2)]\n",
    "    all_grams = tokenized + ngrams_list\n",
    "    \n",
    "    for token in all_grams:\n",
    "        token = token.lower()\n",
    "        if polarity(token) == 'positive':\n",
    "            posList.append(wordDict[token])\n",
    "        elif polarity(token) == 'negative':\n",
    "            negList.append(abs(wordDict[token]))\n",
    "        \n",
    "    return {'pos_sum' : sum(posList), 'neg_sum' : sum(negList)}"
   ]
  },
  {
   "cell_type": "code",
   "execution_count": 148,
   "metadata": {
    "collapsed": true
   },
   "outputs": [],
   "source": [
    "def max_token(string, tokenizer):\n",
    "    \n",
    "    negList = []\n",
    "    posList = []\n",
    "    \n",
    "    for token in tt.tokenize(string):\n",
    "        token = token.lower()\n",
    "        if polarity(token) == 'positive':\n",
    "            posList.append(wordDict[token])\n",
    "        elif polarity(token) == 'negative':\n",
    "            negList.append(wordDict[token])\n",
    "        \n",
    "        \n",
    "    try:\n",
    "        pos_max = max(posList)\n",
    "    except ValueError:\n",
    "        pos_max = 0\n",
    "    try:\n",
    "        neg_max = min(negList)\n",
    "    except ValueError:\n",
    "        neg_max = 0\n",
    "        \n",
    "    return {'pos_max' : pos_max, 'neg_max' : neg_max}"
   ]
  },
  {
   "cell_type": "code",
   "execution_count": 149,
   "metadata": {
    "collapsed": true
   },
   "outputs": [],
   "source": [
    "def last_token(string, tokenizer):\n",
    "    \n",
    "    negList = []\n",
    "    posList = []\n",
    "    \n",
    "    tokenized = tt.tokenize(string)\n",
    "    ngrams_list = [' '.join(i) for i in ngrams(tokenized, 2)]\n",
    "    all_grams = tokenized + ngrams_list\n",
    "    \n",
    "    last_polarity_uni = 0\n",
    "    last_polarity_bi = 0\n",
    "\n",
    "    for unigram, bigram in list(zip_longest(reversed(tokenized), reversed(ngrams_list))):\n",
    "        #unigram, bigram = unigram.lower(), bigram.lower()\n",
    "        if polarity(unigram) != 'none' or polarity(bigram) != 'none':\n",
    "            try:\n",
    "                last_polarity_uni = wordDict[unigram]\n",
    "            except KeyError:\n",
    "                last_polarity_uni = 0\n",
    "            try:\n",
    "                last_polarity_bi = wordDict[bigram]\n",
    "            except KeyError:\n",
    "                last_polarity_uni = 0\n",
    "            \n",
    "            if abs(last_polarity_uni) > abs(last_polarity_bi):\n",
    "                return {'last_polarity' : last_polarity_uni} \n",
    "            elif abs(last_polarity_uni) < abs(last_polarity_bi):\n",
    "                return {'last_polarity' : last_polarity_bi} \n",
    "            elif abs(last_polarity_uni) == abs(last_polarity_bi):\n",
    "                return {'last_polarity' : last_polarity_uni} \n",
    "            else:\n",
    "                return {'last_polarity' : 0}\n",
    "        else:\n",
    "            continue\n",
    "    \n",
    "    else:\n",
    "        return {'last_polarity' : 0}"
   ]
  },
  {
   "cell_type": "code",
   "execution_count": 150,
   "metadata": {
    "collapsed": true
   },
   "outputs": [],
   "source": [
    "def all_feats_dict(string, tokenizer):\n",
    "    ct = count_tokens_with_polarity(string, tokenizer)\n",
    "    pol = polarity_sum(string, tokenizer)\n",
    "    max_tkn = max_token(string, tokenizer)\n",
    "    last = last_token(string, tokenizer)\n",
    "    \n",
    "    complete = dict()\n",
    "    \n",
    "    for dictionary in [ct, pol, max_tkn, last]:\n",
    "        complete.update(dictionary)\n",
    "    return complete"
   ]
  },
  {
   "cell_type": "code",
   "execution_count": 151,
   "metadata": {
    "collapsed": false
   },
   "outputs": [],
   "source": [
    "emotionCounts = [all_feats_dict(tweet, tt) for tweet in tweets]"
   ]
  },
  {
   "cell_type": "code",
   "execution_count": 152,
   "metadata": {
    "collapsed": false
   },
   "outputs": [],
   "source": [
    "emotion_df = pd.DataFrame(emotionCounts, index=tweets.index)\n",
    "emotion_df = emotion_df.fillna(0)"
   ]
  },
  {
   "cell_type": "code",
   "execution_count": 153,
   "metadata": {
    "collapsed": false
   },
   "outputs": [],
   "source": [
    "# Add percentages if desired per sentence\n",
    "\n",
    "#for column in emotion_df.columns:\n",
    "#    emotion_df[column + \"_p\"] = emotion_df[column] / emotion_df.sum(axis=1)"
   ]
  },
  {
   "cell_type": "code",
   "execution_count": 154,
   "metadata": {
    "collapsed": false
   },
   "outputs": [
    {
     "data": {
      "text/html": [
       "<div>\n",
       "<table border=\"1\" class=\"dataframe\">\n",
       "  <thead>\n",
       "    <tr style=\"text-align: right;\">\n",
       "      <th></th>\n",
       "      <th>last_polarity</th>\n",
       "      <th>neg_max</th>\n",
       "      <th>neg_sum</th>\n",
       "      <th>negative</th>\n",
       "      <th>none</th>\n",
       "      <th>pos_max</th>\n",
       "      <th>pos_sum</th>\n",
       "      <th>positive</th>\n",
       "    </tr>\n",
       "  </thead>\n",
       "  <tbody>\n",
       "    <tr>\n",
       "      <th>count</th>\n",
       "      <td>2034.000000</td>\n",
       "      <td>2034.000000</td>\n",
       "      <td>2034.000000</td>\n",
       "      <td>2034.000000</td>\n",
       "      <td>2034.000000</td>\n",
       "      <td>2034.000000</td>\n",
       "      <td>2034.000000</td>\n",
       "      <td>2034.000000</td>\n",
       "    </tr>\n",
       "    <tr>\n",
       "      <th>mean</th>\n",
       "      <td>0.094925</td>\n",
       "      <td>-0.234279</td>\n",
       "      <td>0.325528</td>\n",
       "      <td>0.929204</td>\n",
       "      <td>29.316618</td>\n",
       "      <td>0.405990</td>\n",
       "      <td>0.759318</td>\n",
       "      <td>2.185841</td>\n",
       "    </tr>\n",
       "    <tr>\n",
       "      <th>std</th>\n",
       "      <td>0.398565</td>\n",
       "      <td>0.296986</td>\n",
       "      <td>0.459732</td>\n",
       "      <td>1.033574</td>\n",
       "      <td>14.467123</td>\n",
       "      <td>0.282483</td>\n",
       "      <td>0.715570</td>\n",
       "      <td>1.706985</td>\n",
       "    </tr>\n",
       "    <tr>\n",
       "      <th>min</th>\n",
       "      <td>-0.938000</td>\n",
       "      <td>-0.968000</td>\n",
       "      <td>0.000000</td>\n",
       "      <td>0.000000</td>\n",
       "      <td>3.000000</td>\n",
       "      <td>0.000000</td>\n",
       "      <td>0.000000</td>\n",
       "      <td>0.000000</td>\n",
       "    </tr>\n",
       "    <tr>\n",
       "      <th>25%</th>\n",
       "      <td>-0.046000</td>\n",
       "      <td>-0.500000</td>\n",
       "      <td>0.000000</td>\n",
       "      <td>0.000000</td>\n",
       "      <td>17.000000</td>\n",
       "      <td>0.156000</td>\n",
       "      <td>0.188000</td>\n",
       "      <td>1.000000</td>\n",
       "    </tr>\n",
       "    <tr>\n",
       "      <th>50%</th>\n",
       "      <td>0.094000</td>\n",
       "      <td>-0.046000</td>\n",
       "      <td>0.078000</td>\n",
       "      <td>1.000000</td>\n",
       "      <td>28.000000</td>\n",
       "      <td>0.406000</td>\n",
       "      <td>0.586000</td>\n",
       "      <td>2.000000</td>\n",
       "    </tr>\n",
       "    <tr>\n",
       "      <th>75%</th>\n",
       "      <td>0.376000</td>\n",
       "      <td>0.000000</td>\n",
       "      <td>0.562000</td>\n",
       "      <td>1.000000</td>\n",
       "      <td>41.000000</td>\n",
       "      <td>0.656000</td>\n",
       "      <td>1.124000</td>\n",
       "      <td>3.000000</td>\n",
       "    </tr>\n",
       "    <tr>\n",
       "      <th>max</th>\n",
       "      <td>0.984000</td>\n",
       "      <td>0.000000</td>\n",
       "      <td>2.734000</td>\n",
       "      <td>8.000000</td>\n",
       "      <td>72.000000</td>\n",
       "      <td>0.984000</td>\n",
       "      <td>4.140000</td>\n",
       "      <td>10.000000</td>\n",
       "    </tr>\n",
       "  </tbody>\n",
       "</table>\n",
       "</div>"
      ],
      "text/plain": [
       "       last_polarity      neg_max      neg_sum     negative         none  \\\n",
       "count    2034.000000  2034.000000  2034.000000  2034.000000  2034.000000   \n",
       "mean        0.094925    -0.234279     0.325528     0.929204    29.316618   \n",
       "std         0.398565     0.296986     0.459732     1.033574    14.467123   \n",
       "min        -0.938000    -0.968000     0.000000     0.000000     3.000000   \n",
       "25%        -0.046000    -0.500000     0.000000     0.000000    17.000000   \n",
       "50%         0.094000    -0.046000     0.078000     1.000000    28.000000   \n",
       "75%         0.376000     0.000000     0.562000     1.000000    41.000000   \n",
       "max         0.984000     0.000000     2.734000     8.000000    72.000000   \n",
       "\n",
       "           pos_max      pos_sum     positive  \n",
       "count  2034.000000  2034.000000  2034.000000  \n",
       "mean      0.405990     0.759318     2.185841  \n",
       "std       0.282483     0.715570     1.706985  \n",
       "min       0.000000     0.000000     0.000000  \n",
       "25%       0.156000     0.188000     1.000000  \n",
       "50%       0.406000     0.586000     2.000000  \n",
       "75%       0.656000     1.124000     3.000000  \n",
       "max       0.984000     4.140000    10.000000  "
      ]
     },
     "execution_count": 154,
     "metadata": {},
     "output_type": "execute_result"
    }
   ],
   "source": [
    "emotion_df.describe()"
   ]
  },
  {
   "cell_type": "code",
   "execution_count": 155,
   "metadata": {
    "collapsed": true
   },
   "outputs": [],
   "source": [
    "from sklearn.cross_validation import cross_val_score\n",
    "from sklearn.naive_bayes import BernoulliNB, MultinomialNB\n",
    "from sklearn.svm import SVC\n",
    "from sklearn.preprocessing import Binarizer, StandardScaler\n",
    "from sklearn.dummy import DummyClassifier"
   ]
  },
  {
   "cell_type": "code",
   "execution_count": 156,
   "metadata": {
    "collapsed": false
   },
   "outputs": [],
   "source": [
    "models = [('DUMMY', DummyClassifier(strategy='most_frequent')),\n",
    "          ('mNB' , MultinomialNB()),\n",
    "          ('bNB' , BernoulliNB()),\n",
    "          ('svc' , SVC())\n",
    "         ]"
   ]
  },
  {
   "cell_type": "code",
   "execution_count": 157,
   "metadata": {
    "collapsed": false
   },
   "outputs": [
    {
     "name": "stdout",
     "output_type": "stream",
     "text": [
      "MODEL\tMEAN CV\tMIN CV\tMAX CV\n",
      "DUMMY\t0.6893\t0.6887\t0.6897\n",
      "mNB\t0.7645\t0.7475\t0.7843\n",
      "bNB\t0.7025\t0.6863\t0.7328\n",
      "svc\t0.7679\t0.7512\t0.7794\n"
     ]
    }
   ],
   "source": [
    "print('{0}\\t{1:<1}\\t{2:<4}\\t{3:<4}'.format(\"MODEL\", \"MEAN CV\", \"MIN CV\", \"MAX CV\"))\n",
    "\n",
    "for name, model in models:    \n",
    "    X, Y = emotion_df, (sts_gold['polarity'] == 4).ravel()\n",
    "    \n",
    "    if name == 'bNB' or 'mNB':\n",
    "        X = abs(X)\n",
    "        if name == 'bNB':\n",
    "            binarize = Binarizer()\n",
    "            X = binarize.fit_transform(X)\n",
    "    elif name == 'svc':\n",
    "        ss = StandardScaler()\n",
    "        X = X.as_matrix()\n",
    "        X = ss.fit_transform(X)\n",
    "        \n",
    "    cv = cross_val_score(model, X, Y, cv=5, scoring='accuracy')\n",
    "    \n",
    "    print('{0}\\t{1:<3}\\t{2:<4}\\t{3:<4}'.format(name, round(cv.mean(), 4), round(cv.min(), 4), round(cv.max(), 4)))"
   ]
  },
  {
   "cell_type": "code",
   "execution_count": null,
   "metadata": {
    "collapsed": true
   },
   "outputs": [],
   "source": []
  }
 ],
 "metadata": {
  "kernelspec": {
   "display_name": "Python 3",
   "language": "python",
   "name": "python3"
  },
  "language_info": {
   "codemirror_mode": {
    "name": "ipython",
    "version": 3
   },
   "file_extension": ".py",
   "mimetype": "text/x-python",
   "name": "python",
   "nbconvert_exporter": "python",
   "pygments_lexer": "ipython3",
   "version": "3.5.1"
  }
 },
 "nbformat": 4,
 "nbformat_minor": 0
}
